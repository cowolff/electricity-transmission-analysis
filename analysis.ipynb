{
 "cells": [
  {
   "cell_type": "code",
   "execution_count": 26,
   "id": "a7280841",
   "metadata": {},
   "outputs": [],
   "source": [
    "import json\n",
    "import time\n",
    "import re\n",
    "from typing import Dict, Any, Optional\n",
    "\n",
    "from dotenv import load_dotenv\n",
    "import os\n",
    "\n",
    "from openai import OpenAI"
   ]
  },
  {
   "cell_type": "code",
   "execution_count": 27,
   "id": "76e99e74",
   "metadata": {},
   "outputs": [],
   "source": [
    "MODEL = \"gpt-5\"\n",
    "REQUESTS_PER_MINUTE = 1            # set lower if you hit rate limits\n",
    "RETRY_LIMIT = 3\n",
    "SLEEP_BETWEEN_CALLS = 60.0 / REQUESTS_PER_MINUTE\n",
    "\n",
    "# Master list of European countries (geographic Europe + microstates + Kosovo; Turkey & Azerbaijan included as transcontinental)\n",
    "EUROPEAN_COUNTRIES = [\n",
    "    \"Albania\", \"Andorra\", \"Armenia\", \"Austria\", \"Azerbaijan\", \"Belarus\", \"Belgium\",\n",
    "    \"Bosnia and Herzegovina\", \"Bulgaria\", \"Croatia\", \"Cyprus\", \"Czechia\", \"Denmark\",\n",
    "    \"Estonia\", \"Finland\", \"France\", \"Georgia\", \"Germany\", \"Greece\", \"Hungary\",\n",
    "    \"Iceland\", \"Ireland\", \"Italy\", \"Kosovo\", \"Latvia\", \"Lithuania\",\n",
    "    \"Luxembourg\", \"Malta\", \"Moldova\", \"Montenegro\", \"Netherlands\",\n",
    "    \"North Macedonia\", \"Norway\", \"Poland\", \"Portugal\", \"Romania\", \"Russia\",\n",
    "    \"San Marino\", \"Serbia\", \"Slovakia\", \"Slovenia\", \"Spain\", \"Sweden\",\n",
    "    \"Switzerland\", \"Ukraine\", \"United Kingdom\"\n",
    "]"
   ]
  },
  {
   "cell_type": "code",
   "execution_count": 28,
   "id": "a8d34448",
   "metadata": {},
   "outputs": [],
   "source": [
    "def extract_json(text: str) -> Optional[Dict[str, Any]]:\n",
    "    \"\"\"\n",
    "    Try to parse a small JSON object from a model response.\n",
    "    Accepts a bare JSON object or JSON fenced in code blocks or extra prose.\n",
    "    \"\"\"\n",
    "    # Look for the first JSON object in the text with a simple brace counter\n",
    "    # as a fallback if standard parsing fails.\n",
    "    # First, try straightforward parse:\n",
    "    try:\n",
    "        return json.loads(text)\n",
    "    except Exception:\n",
    "        pass\n",
    "\n",
    "    # Try to extract from a code block\n",
    "    codeblock = re.search(r\"```(?:json)?\\s*({.*?})\\s*```\", text, flags=re.DOTALL | re.IGNORECASE)\n",
    "    if codeblock:\n",
    "        try:\n",
    "            return json.loads(codeblock.group(1))\n",
    "        except Exception:\n",
    "            pass\n",
    "\n",
    "    # Braces sweep\n",
    "    start_idxs = [m.start() for m in re.finditer(r\"\\{\", text)]\n",
    "    for start in start_idxs:\n",
    "        depth = 0\n",
    "        for i in range(start, len(text)):\n",
    "            if text[i] == \"{\":\n",
    "                depth += 1\n",
    "            elif text[i] == \"}\":\n",
    "                depth -= 1\n",
    "                if depth == 0:\n",
    "                    candidate = text[start:i+1]\n",
    "                    try:\n",
    "                        return json.loads(candidate)\n",
    "                    except Exception:\n",
    "                        break\n",
    "    return None"
   ]
  },
  {
   "cell_type": "code",
   "execution_count": 29,
   "id": "53d35e16",
   "metadata": {},
   "outputs": [],
   "source": [
    "def ask_country_privatisation(client: OpenAI, country: str) -> Dict[str, str]:\n",
    "    \"\"\"\n",
    "    Query GPT-5 about privatisation status for one country.\n",
    "    Returns {\"privatized\": \"yes|no|partly\"}; defaults to {\"privatized\":\"partly\"} if uncertain.\n",
    "    \"\"\"\n",
    "    prompt = (\n",
    "        f\"For the European country '{country}', has the long-distance electricity transmission \"\n",
    "        f\"network (the high-voltage TSO grid) been privatized? \"\n",
    "        f\"Conclude your answer with a valid, minified JSON in this exact schema:\\n\"\n",
    "        f'{{\"privatized\":\"yes\"|\"no\"|\"partly\"}}.\\n'\n",
    "        f\"Use the web_search tool to verify before answering. \"\n",
    "        f\"Partly means that while the companies are publicly traded/owned, the government stays in control over operations.\"\n",
    "    )\n",
    "\n",
    "    for attempt in range(1, RETRY_LIMIT + 1):\n",
    "        try:\n",
    "            resp = client.responses.create(\n",
    "                model=MODEL,\n",
    "                tools=[{\"type\": \"web_search\"}],\n",
    "                input=prompt,\n",
    "            )\n",
    "            text = getattr(resp, \"output_text\", None) or str(resp)\n",
    "            data = extract_json(text)\n",
    "            if not data or \"privatized\" not in data:\n",
    "                raise ValueError(f\"Could not parse JSON for {country}: {text!r}\")\n",
    "            val = str(data[\"privatized\"]).strip().lower()\n",
    "            if val not in {\"yes\", \"no\", \"partly\"}:\n",
    "                # Normalize some common variants\n",
    "                if val in {\"partial\", \"mixed\", \"semi\", \"semi-privatized\", \"semi privatized\"}:\n",
    "                    val = \"partly\"\n",
    "                elif val in {\"state-owned\", \"state owned\", \"public\"}:\n",
    "                    val = \"no\"\n",
    "                elif val in {\"privatized\", \"private\"}:\n",
    "                    val = \"yes\"\n",
    "                else:\n",
    "                    val = \"partly\"\n",
    "            return {\"privatized\": val}\n",
    "        except Exception as e:\n",
    "            print(f\"Error on attempt {attempt} for {country}: {e}\")\n",
    "            if attempt >= RETRY_LIMIT:\n",
    "                # Fall back to 'partly' on repeated failures\n",
    "                return {\"privatized\": None}\n",
    "            time.sleep(SLEEP_BETWEEN_CALLS)"
   ]
  },
  {
   "cell_type": "code",
   "execution_count": null,
   "id": "9e8e8f33",
   "metadata": {},
   "outputs": [
    {
     "name": "stderr",
     "output_type": "stream",
     "text": [
      "Processing countries:   0%|          | 0/46 [00:00<?, ?it/s]"
     ]
    },
    {
     "name": "stdout",
     "output_type": "stream",
     "text": [
      "Albania: {'privatized': 'no'}\n"
     ]
    },
    {
     "name": "stderr",
     "output_type": "stream",
     "text": [
      "Processing countries:   2%|▏         | 1/46 [01:23<1:02:45, 83.68s/it]"
     ]
    },
    {
     "name": "stdout",
     "output_type": "stream",
     "text": [
      "Andorra: {'privatized': 'no'}\n"
     ]
    },
    {
     "name": "stderr",
     "output_type": "stream",
     "text": [
      "Processing countries:   4%|▍         | 2/46 [03:04<1:08:46, 93.77s/it]"
     ]
    },
    {
     "name": "stdout",
     "output_type": "stream",
     "text": [
      "Armenia: {'privatized': 'no'}\n"
     ]
    },
    {
     "name": "stderr",
     "output_type": "stream",
     "text": [
      "Processing countries:   7%|▋         | 3/46 [04:28<1:03:57, 89.24s/it]"
     ]
    },
    {
     "name": "stdout",
     "output_type": "stream",
     "text": [
      "Austria: {'privatized': 'partly'}\n"
     ]
    },
    {
     "name": "stderr",
     "output_type": "stream",
     "text": [
      "Processing countries:   9%|▊         | 4/46 [06:13<1:06:46, 95.39s/it]"
     ]
    },
    {
     "name": "stdout",
     "output_type": "stream",
     "text": [
      "Azerbaijan: {'privatized': 'no'}\n"
     ]
    },
    {
     "name": "stderr",
     "output_type": "stream",
     "text": [
      "Processing countries:  11%|█         | 5/46 [07:36<1:02:14, 91.08s/it]"
     ]
    },
    {
     "name": "stdout",
     "output_type": "stream",
     "text": [
      "Belarus: {'privatized': 'no'}\n"
     ]
    },
    {
     "name": "stderr",
     "output_type": "stream",
     "text": [
      "Processing countries:  13%|█▎        | 6/46 [08:54<57:37, 86.44s/it]  "
     ]
    },
    {
     "name": "stdout",
     "output_type": "stream",
     "text": [
      "Belgium: {'privatized': 'partly'}\n"
     ]
    },
    {
     "name": "stderr",
     "output_type": "stream",
     "text": [
      "Processing countries:  15%|█▌        | 7/46 [11:04<1:05:28, 100.72s/it]"
     ]
    },
    {
     "name": "stdout",
     "output_type": "stream",
     "text": [
      "Bosnia and Herzegovina: {'privatized': 'no'}\n"
     ]
    },
    {
     "name": "stderr",
     "output_type": "stream",
     "text": [
      "Processing countries:  17%|█▋        | 8/46 [12:44<1:03:37, 100.47s/it]"
     ]
    },
    {
     "name": "stdout",
     "output_type": "stream",
     "text": [
      "Bulgaria: {'privatized': 'no'}\n"
     ]
    },
    {
     "name": "stderr",
     "output_type": "stream",
     "text": [
      "Processing countries:  20%|█▉        | 9/46 [14:27<1:02:28, 101.30s/it]"
     ]
    },
    {
     "name": "stdout",
     "output_type": "stream",
     "text": [
      "Croatia: {'privatized': 'no'}\n"
     ]
    },
    {
     "name": "stderr",
     "output_type": "stream",
     "text": [
      "Processing countries:  22%|██▏       | 10/46 [16:09<1:00:59, 101.64s/it]"
     ]
    },
    {
     "name": "stdout",
     "output_type": "stream",
     "text": [
      "Cyprus: {'privatized': 'no'}\n"
     ]
    },
    {
     "name": "stderr",
     "output_type": "stream",
     "text": [
      "Processing countries:  24%|██▍       | 11/46 [17:46<58:24, 100.13s/it]  "
     ]
    },
    {
     "name": "stdout",
     "output_type": "stream",
     "text": [
      "Czechia: {'privatized': 'no'}\n"
     ]
    },
    {
     "name": "stderr",
     "output_type": "stream",
     "text": [
      "Processing countries:  26%|██▌       | 12/46 [19:33<57:55, 102.21s/it]"
     ]
    },
    {
     "name": "stdout",
     "output_type": "stream",
     "text": [
      "Denmark: {'privatized': 'no'}\n"
     ]
    },
    {
     "name": "stderr",
     "output_type": "stream",
     "text": [
      "Processing countries:  28%|██▊       | 13/46 [21:05<54:32, 99.17s/it] "
     ]
    },
    {
     "name": "stdout",
     "output_type": "stream",
     "text": [
      "Estonia: {'privatized': 'no'}\n"
     ]
    },
    {
     "name": "stderr",
     "output_type": "stream",
     "text": [
      "Processing countries:  30%|███       | 14/46 [22:28<50:14, 94.21s/it]"
     ]
    },
    {
     "name": "stdout",
     "output_type": "stream",
     "text": [
      "Finland: {'privatized': 'partly'}\n"
     ]
    },
    {
     "name": "stderr",
     "output_type": "stream",
     "text": [
      "Processing countries:  33%|███▎      | 15/46 [24:21<51:36, 99.89s/it]"
     ]
    },
    {
     "name": "stdout",
     "output_type": "stream",
     "text": [
      "France: {'privatized': 'no'}\n"
     ]
    },
    {
     "name": "stderr",
     "output_type": "stream",
     "text": [
      "Processing countries:  35%|███▍      | 16/46 [26:10<51:23, 102.80s/it]"
     ]
    },
    {
     "name": "stdout",
     "output_type": "stream",
     "text": [
      "Georgia: {'privatized': 'no'}\n"
     ]
    },
    {
     "name": "stderr",
     "output_type": "stream",
     "text": [
      "Processing countries:  37%|███▋      | 17/46 [27:53<49:37, 102.68s/it]"
     ]
    },
    {
     "name": "stdout",
     "output_type": "stream",
     "text": [
      "Germany: {'privatized': 'partly'}\n"
     ]
    },
    {
     "name": "stderr",
     "output_type": "stream",
     "text": [
      "Processing countries:  39%|███▉      | 18/46 [29:54<50:27, 108.14s/it]"
     ]
    },
    {
     "name": "stdout",
     "output_type": "stream",
     "text": [
      "Greece: {'privatized': 'partly'}\n"
     ]
    },
    {
     "name": "stderr",
     "output_type": "stream",
     "text": [
      "Processing countries:  41%|████▏     | 19/46 [32:03<51:29, 114.44s/it]"
     ]
    },
    {
     "name": "stdout",
     "output_type": "stream",
     "text": [
      "Hungary: {'privatized': 'no'}\n"
     ]
    },
    {
     "name": "stderr",
     "output_type": "stream",
     "text": [
      "Processing countries:  43%|████▎     | 20/46 [33:51<48:45, 112.53s/it]"
     ]
    },
    {
     "name": "stdout",
     "output_type": "stream",
     "text": [
      "Iceland: {'privatized': 'no'}\n"
     ]
    },
    {
     "name": "stderr",
     "output_type": "stream",
     "text": [
      "Processing countries:  46%|████▌     | 21/46 [35:28<44:56, 107.87s/it]"
     ]
    },
    {
     "name": "stdout",
     "output_type": "stream",
     "text": [
      "Ireland: {'privatized': 'no'}\n"
     ]
    },
    {
     "name": "stderr",
     "output_type": "stream",
     "text": [
      "Processing countries:  48%|████▊     | 22/46 [36:59<41:07, 102.83s/it]"
     ]
    },
    {
     "name": "stdout",
     "output_type": "stream",
     "text": [
      "Italy: {'privatized': 'partly'}\n"
     ]
    },
    {
     "name": "stderr",
     "output_type": "stream",
     "text": [
      "Processing countries:  50%|█████     | 23/46 [39:17<43:30, 113.48s/it]"
     ]
    },
    {
     "name": "stdout",
     "output_type": "stream",
     "text": [
      "Kosovo: {'privatized': 'no'}\n"
     ]
    },
    {
     "name": "stderr",
     "output_type": "stream",
     "text": [
      "Processing countries:  52%|█████▏    | 24/46 [41:01<40:33, 110.60s/it]"
     ]
    },
    {
     "name": "stdout",
     "output_type": "stream",
     "text": [
      "Latvia: {'privatized': 'no'}\n"
     ]
    },
    {
     "name": "stderr",
     "output_type": "stream",
     "text": [
      "Processing countries:  54%|█████▍    | 25/46 [42:38<37:16, 106.50s/it]"
     ]
    },
    {
     "name": "stdout",
     "output_type": "stream",
     "text": [
      "Lithuania: {'privatized': 'partly'}\n"
     ]
    },
    {
     "name": "stderr",
     "output_type": "stream",
     "text": [
      "Processing countries:  57%|█████▋    | 26/46 [44:14<34:29, 103.47s/it]"
     ]
    },
    {
     "name": "stdout",
     "output_type": "stream",
     "text": [
      "Luxembourg: {'privatized': 'no'}\n"
     ]
    },
    {
     "name": "stderr",
     "output_type": "stream",
     "text": [
      "Processing countries:  59%|█████▊    | 27/46 [46:55<38:10, 120.55s/it]"
     ]
    },
    {
     "name": "stdout",
     "output_type": "stream",
     "text": [
      "Malta: {'privatized': 'partly'}\n"
     ]
    },
    {
     "name": "stderr",
     "output_type": "stream",
     "text": [
      "Processing countries:  61%|██████    | 28/46 [49:21<38:28, 128.24s/it]"
     ]
    },
    {
     "name": "stdout",
     "output_type": "stream",
     "text": [
      "Moldova: {'privatized': 'no'}\n"
     ]
    },
    {
     "name": "stderr",
     "output_type": "stream",
     "text": [
      "Processing countries:  63%|██████▎   | 29/46 [50:45<32:36, 115.11s/it]"
     ]
    },
    {
     "name": "stdout",
     "output_type": "stream",
     "text": [
      "Montenegro: {'privatized': 'partly'}\n"
     ]
    },
    {
     "name": "stderr",
     "output_type": "stream",
     "text": [
      "Processing countries:  65%|██████▌   | 30/46 [52:22<29:14, 109.64s/it]"
     ]
    },
    {
     "name": "stdout",
     "output_type": "stream",
     "text": [
      "Netherlands: {'privatized': 'no'}\n"
     ]
    },
    {
     "name": "stderr",
     "output_type": "stream",
     "text": [
      "Processing countries:  67%|██████▋   | 31/46 [53:58<26:23, 105.56s/it]"
     ]
    },
    {
     "name": "stdout",
     "output_type": "stream",
     "text": [
      "North Macedonia: {'privatized': 'no'}\n"
     ]
    },
    {
     "name": "stderr",
     "output_type": "stream",
     "text": [
      "Processing countries:  70%|██████▉   | 32/46 [55:27<23:28, 100.60s/it]"
     ]
    },
    {
     "name": "stdout",
     "output_type": "stream",
     "text": [
      "Norway: {'privatized': 'no'}\n"
     ]
    },
    {
     "name": "stderr",
     "output_type": "stream",
     "text": [
      "Processing countries:  72%|███████▏  | 33/46 [57:00<21:15, 98.12s/it] "
     ]
    },
    {
     "name": "stdout",
     "output_type": "stream",
     "text": [
      "Poland: {'privatized': 'no'}\n"
     ]
    },
    {
     "name": "stderr",
     "output_type": "stream",
     "text": [
      "Processing countries:  74%|███████▍  | 34/46 [58:29<19:06, 95.53s/it]"
     ]
    },
    {
     "name": "stdout",
     "output_type": "stream",
     "text": [
      "Portugal: {'privatized': 'yes'}\n"
     ]
    },
    {
     "name": "stderr",
     "output_type": "stream",
     "text": [
      "Processing countries:  76%|███████▌  | 35/46 [1:00:22<18:28, 100.73s/it]"
     ]
    },
    {
     "name": "stdout",
     "output_type": "stream",
     "text": [
      "Romania: {'privatized': 'partly'}\n"
     ]
    },
    {
     "name": "stderr",
     "output_type": "stream",
     "text": [
      "Processing countries:  78%|███████▊  | 36/46 [1:02:05<16:53, 101.31s/it]"
     ]
    },
    {
     "name": "stdout",
     "output_type": "stream",
     "text": [
      "Russia: {'privatized': 'partly'}\n"
     ]
    },
    {
     "name": "stderr",
     "output_type": "stream",
     "text": [
      "Processing countries:  80%|████████  | 37/46 [1:03:48<15:16, 101.88s/it]"
     ]
    },
    {
     "name": "stdout",
     "output_type": "stream",
     "text": [
      "San Marino: {'privatized': 'no'}\n"
     ]
    },
    {
     "name": "stderr",
     "output_type": "stream",
     "text": [
      "Processing countries:  83%|████████▎ | 38/46 [1:06:32<16:04, 120.55s/it]"
     ]
    },
    {
     "name": "stdout",
     "output_type": "stream",
     "text": [
      "Serbia: {'privatized': 'no'}\n"
     ]
    },
    {
     "name": "stderr",
     "output_type": "stream",
     "text": [
      "Processing countries:  85%|████████▍ | 39/46 [1:08:12<13:20, 114.33s/it]"
     ]
    },
    {
     "name": "stdout",
     "output_type": "stream",
     "text": [
      "Slovakia: {'privatized': 'no'}\n"
     ]
    },
    {
     "name": "stderr",
     "output_type": "stream",
     "text": [
      "Processing countries:  87%|████████▋ | 40/46 [1:09:52<11:01, 110.17s/it]"
     ]
    },
    {
     "name": "stdout",
     "output_type": "stream",
     "text": [
      "Slovenia: {'privatized': 'no'}\n"
     ]
    },
    {
     "name": "stderr",
     "output_type": "stream",
     "text": [
      "Processing countries:  89%|████████▉ | 41/46 [1:11:47<09:17, 111.41s/it]"
     ]
    },
    {
     "name": "stdout",
     "output_type": "stream",
     "text": [
      "Spain: {'privatized': 'partly'}\n"
     ]
    },
    {
     "name": "stderr",
     "output_type": "stream",
     "text": [
      "Processing countries:  91%|█████████▏| 42/46 [1:14:01<07:53, 118.29s/it]"
     ]
    },
    {
     "name": "stdout",
     "output_type": "stream",
     "text": [
      "Sweden: {'privatized': 'no'}\n"
     ]
    },
    {
     "name": "stderr",
     "output_type": "stream",
     "text": [
      "Processing countries:  93%|█████████▎| 43/46 [1:15:29<05:27, 109.18s/it]"
     ]
    },
    {
     "name": "stdout",
     "output_type": "stream",
     "text": [
      "Switzerland: {'privatized': 'no'}\n"
     ]
    },
    {
     "name": "stderr",
     "output_type": "stream",
     "text": [
      "Processing countries:  96%|█████████▌| 44/46 [1:17:24<03:41, 110.81s/it]"
     ]
    },
    {
     "name": "stdout",
     "output_type": "stream",
     "text": [
      "Ukraine: {'privatized': 'no'}\n"
     ]
    },
    {
     "name": "stderr",
     "output_type": "stream",
     "text": [
      "Processing countries:  98%|█████████▊| 45/46 [1:18:40<01:40, 100.58s/it]"
     ]
    },
    {
     "name": "stdout",
     "output_type": "stream",
     "text": [
      "United Kingdom: {'privatized': 'partly'}\n"
     ]
    },
    {
     "name": "stderr",
     "output_type": "stream",
     "text": [
      "Processing countries: 100%|██████████| 46/46 [1:21:14<00:00, 105.97s/it]"
     ]
    },
    {
     "name": "stdout",
     "output_type": "stream",
     "text": [
      "Results saved to privatisation_results.json\n"
     ]
    },
    {
     "name": "stderr",
     "output_type": "stream",
     "text": [
      "\n"
     ]
    }
   ],
   "source": [
    "from tqdm import tqdm\n",
    "\n",
    "load_dotenv()\n",
    "api_key = os.getenv(\"OPENAI_API_KEY\")\n",
    "client = OpenAI(api_key=api_key)\n",
    "results: Dict[str, Dict[str, str]] = {}\n",
    "\n",
    "for country in tqdm(EUROPEAN_COUNTRIES, desc=\"Processing countries\"):\n",
    "    result = ask_country_privatisation(client, country)\n",
    "    results[country] = result\n",
    "    time.sleep(SLEEP_BETWEEN_CALLS)\n",
    "\n",
    "# Print the final structured JSON\n",
    "with open(\"privatisation_results.json\", \"w\", encoding=\"utf-8\") as f:\n",
    "    json.dump(results, f, ensure_ascii=False, separators=(\",\", \":\"))\n",
    "print(\"Results saved to privatisation_results.json\")"
   ]
  }
 ],
 "metadata": {
  "kernelspec": {
   "display_name": "cwi",
   "language": "python",
   "name": "python3"
  },
  "language_info": {
   "codemirror_mode": {
    "name": "ipython",
    "version": 3
   },
   "file_extension": ".py",
   "mimetype": "text/x-python",
   "name": "python",
   "nbconvert_exporter": "python",
   "pygments_lexer": "ipython3",
   "version": "3.11.8"
  }
 },
 "nbformat": 4,
 "nbformat_minor": 5
}
